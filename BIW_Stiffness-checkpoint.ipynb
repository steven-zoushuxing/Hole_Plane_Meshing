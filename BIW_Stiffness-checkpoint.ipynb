{
 "cells": [
  {
   "cell_type": "code",
   "execution_count": 1,
   "id": "3481e109",
   "metadata": {},
   "outputs": [
    {
     "ename": "ModuleNotFoundError",
     "evalue": "No module named 'ansa'",
     "output_type": "error",
     "traceback": [
      "\u001b[1;31m---------------------------------------------------------------------------\u001b[0m",
      "\u001b[1;31mModuleNotFoundError\u001b[0m                       Traceback (most recent call last)",
      "\u001b[1;32m~\\AppData\\Local\\Temp/ipykernel_7216/1411746374.py\u001b[0m in \u001b[0;36m<module>\u001b[1;34m\u001b[0m\n\u001b[1;32m----> 1\u001b[1;33m \u001b[1;32mimport\u001b[0m \u001b[0mansa\u001b[0m\u001b[1;33m\u001b[0m\u001b[1;33m\u001b[0m\u001b[0m\n\u001b[0m",
      "\u001b[1;31mModuleNotFoundError\u001b[0m: No module named 'ansa'"
     ]
    }
   ],
   "source": [
    "import ansa\n",
    "from ansa.guitk import*\n"
   ]
  },
  {
   "cell_type": "code",
   "execution_count": 3,
   "id": "6dc6bbc1",
   "metadata": {},
   "outputs": [
    {
     "ename": "SyntaxError",
     "evalue": "invalid syntax (Temp/ipykernel_7216/476052354.py, line 2)",
     "output_type": "error",
     "traceback": [
      "\u001b[1;36m  File \u001b[1;32m\"C:\\Users\\zou\\AppData\\Local\\Temp/ipykernel_7216/476052354.py\"\u001b[1;36m, line \u001b[1;32m2\u001b[0m\n\u001b[1;33m    def_init_(self,w,LabelName1=\"Label1\",LabelName2=\"Label2\",LabelName1=\"Label3\"):\u001b[0m\n\u001b[1;37m                                                                                  ^\u001b[0m\n\u001b[1;31mSyntaxError\u001b[0m\u001b[1;31m:\u001b[0m invalid syntax\n"
     ]
    }
   ],
   "source": [
    "class GUIDIY():\n",
    "    def_init_(self,w,LabelName1=\"<b>Label1<b>\",LabelName2=\"Label2\",LabelName1=\"Label3\"):\n",
    "        \n",
    "        self.LeftLineEdit = []\n",
    "        self.RightLineEdit = []\n",
    "        self.row = 2\n",
    "        \n",
    "        self.Grid = BCGridLayoutCreate(w)\n",
    "        self.Label1 = BCLabelCreate(self.Grid,LabelName1)\n",
    "        self.Label2 = BCLabelCreate(self.Grid,LabelName2)\n",
    "        self.Label3 = BCLabelCreate(self.Grid,LabelName3)\n",
    "        \n",
    "        BCGridLayoutAddWidget(self.Grid,self.Label1,1,1,constants.BCAlignLeft)\n",
    "        BCGridLayoutAddWidget(self.Grid,self.Label2,2,1,constants.BCAlignLeft)\n",
    "        BCGridLayoutAddWidget(self.Grid,self.Label3,2,2,constants.BCAlignCenter)\n",
    "        \n",
    "        self.data=[]\n",
    "        self.Button_ADD = BCPushButtonCreate(self.Grid,\"ADD\",self.ADD,data)\n",
    "        self.Button_DEL = BCPushButtonCreate(self.Grid,\"DEL\",self.DEL,data)\n",
    "        BCGridLayoutAddWidget(self.Grid,self.Button_ADD,1,3,constants.BCAlignRight)\n",
    "        BCGridLayoutAddWidget(self.Grid,self.Button_DEL,1,4,constants.BCAlignRight)\n",
    "        \n",
    "        def ADD(self,b,data):\n",
    "            self.row += 1\n",
    "            LineEdit1 = BCLineEditCreate(self.Grid,\"\")\n",
    "            LineEdit2 = BCLineEditCreate(self.Grid,\"\")\n",
    "            self.LeftLineEdit.append[LineEdit1]\n",
    "            self.RightLineEdit.append[LineEdit2]\n",
    "            BCGridLayoutAddWidget(self.Grid,self.LineEdit1,row,1,constants.BCAlignCenter)\n",
    "            BCGridLayoutAddWidget(self.Grid,self.LineEdit2,row,2,constants.BCAlignCenter)\n",
    "            return 0\n",
    "        \n",
    "        def DEL(self,b,data):\n",
    "            if self.row == 2:\n",
    "                return\n",
    "            self.row -= 1\n",
    "            LineEdit1 = self.LeftLineEdit.pop()\n",
    "            LineEdit2 = self.RightLineEdit.pop()\n",
    "            BCGridLayoutRemove(self.Grid,LineEdit1)\n",
    "            BCGridLayoutRemove(self.Grid,LineEdit2)\n",
    "            BCDestroy(BCLineEdit1)\n",
    "            BCDestroy(BCLineEdit2)\n",
    "            return 0\n",
    "        \n",
    "def main():\n",
    "    w = BCWindowCreate(\"BIW Stiffness\",constants.BCOnExitDestory)\n",
    "    test = GUIDIY(w,LabelName1=\"<b>SPC<b>\",LabelName2=\"PointID\",LabelName1=\"DOF\"))\n",
    "    test2 = GUIDIY(w)\n",
    "    BCShow(w)\n",
    "    \n",
    "main()"
   ]
  },
  {
   "cell_type": "code",
   "execution_count": null,
   "id": "ca180726",
   "metadata": {},
   "outputs": [],
   "source": []
  }
 ],
 "metadata": {
  "kernelspec": {
   "display_name": "Python 3 (ipykernel)",
   "language": "python",
   "name": "python3"
  },
  "language_info": {
   "codemirror_mode": {
    "name": "ipython",
    "version": 3
   },
   "file_extension": ".py",
   "mimetype": "text/x-python",
   "name": "python",
   "nbconvert_exporter": "python",
   "pygments_lexer": "ipython3",
   "version": "3.9.7"
  }
 },
 "nbformat": 4,
 "nbformat_minor": 5
}
